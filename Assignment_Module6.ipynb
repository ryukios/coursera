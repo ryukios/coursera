{
 "cells": [
  {
   "cell_type": "markdown",
   "id": "153a2084-abfe-430e-8e3b-8ef4c55da84a",
   "metadata": {},
   "source": [
    "## Exercise 2 - Create a markdown cell with the title of the notebook - Assignment of Module 6"
   ]
  },
  {
   "cell_type": "markdown",
   "id": "288197f4-1559-42a0-9279-f71f335828d9",
   "metadata": {},
   "source": [
    "#### Exercise 3  - Create a markdown cell for an introduction"
   ]
  },
  {
   "cell_type": "markdown",
   "id": "86ed3a77-3d7e-40d6-a381-89708f14ac25",
   "metadata": {},
   "source": [
    "#### Exercise 4 - List of Data Science languages\n",
    "- Python\n",
    "- Julia \n",
    "- R\n"
   ]
  },
  {
   "cell_type": "markdown",
   "id": "3cd8f324-164f-42ab-b575-e56243ba29a3",
   "metadata": {},
   "source": [
    "#### Exercise 5 - List of Data Science libraries\n",
    "- NumPy\n",
    "- Pandas\n",
    "- Matplotlib\n",
    "- Plotly\n",
    "- Sci-Kit Learn\n",
    "- TensorFlow"
   ]
  },
  {
   "cell_type": "markdown",
   "id": "f16fe1bc-53f0-4c76-9124-572246e42d31",
   "metadata": {},
   "source": [
    "#### Excercise 6 - Table od Data Science Tools\n",
    "\n",
    "|Data Science Tools|\n",
    "|-------------------|\n",
    "|Jupyter Notebook|\n",
    "|Google Collab|\n",
    "|GitHub|\n",
    "|WatsonX|\n"
   ]
  },
  {
   "cell_type": "markdown",
   "id": "dda9fbed-7127-40fc-a3d5-72ad9a833ad2",
   "metadata": {},
   "source": [
    "#### Exercise 7- Introducing arithmetic expressions examples\n",
    "##### Addition (+)\n",
    "5+3\n",
    "##### Subtraction (-)\n",
    "10-8\n",
    "##### Multipication (*)\n",
    "15*3\n",
    "##### Division (/)\n",
    "25/5\n",
    "##### Integer Division (//)\n",
    "9//2\n",
    "##### Modulus (%)\n",
    "10 % 3\n",
    "##### Exponentiation (**)\n",
    "3**4\n"
   ]
  },
  {
   "cell_type": "markdown",
   "id": "8eb6eca5-a1f2-44d1-b581-98bcfffb1f32",
   "metadata": {},
   "source": [
    "#### Exercise 8 - Code cell to multiply and add numbers"
   ]
  },
  {
   "cell_type": "code",
   "execution_count": 22,
   "id": "7ba4220e-eca4-40d0-971b-14d04d2e614e",
   "metadata": {},
   "outputs": [
    {
     "data": {
      "text/plain": [
       "24"
      ]
     },
     "execution_count": 22,
     "metadata": {},
     "output_type": "execute_result"
    }
   ],
   "source": [
    "##### Multiply\n",
    "3*8"
   ]
  },
  {
   "cell_type": "code",
   "execution_count": 24,
   "id": "7ab473c1-c096-4162-bcbe-00930352c6a9",
   "metadata": {},
   "outputs": [
    {
     "data": {
      "text/plain": [
       "20"
      ]
     },
     "execution_count": 24,
     "metadata": {},
     "output_type": "execute_result"
    }
   ],
   "source": [
    "##### Add\n",
    "15+5"
   ]
  },
  {
   "cell_type": "markdown",
   "id": "5eec86c0-fcba-4dfb-9b56-ab1b0cf24ae4",
   "metadata": {},
   "source": [
    "#### Exercise 9 Create a code cell to convert minutes to hours"
   ]
  },
  {
   "cell_type": "code",
   "execution_count": 26,
   "id": "b55da15c-3180-4e7f-a30b-69be299bf577",
   "metadata": {},
   "outputs": [
    {
     "name": "stdout",
     "output_type": "stream",
     "text": [
      "1.0\n"
     ]
    }
   ],
   "source": [
    "minutes = 60\n",
    "hours = minutes/60\n",
    "print(hours)"
   ]
  },
  {
   "cell_type": "markdown",
   "id": "4a350cdf-8066-4ec4-8b05-6f513166c93f",
   "metadata": {},
   "source": [
    "#### Exercise 10 - Insert a markdown cell to list Objectives"
   ]
  },
  {
   "cell_type": "markdown",
   "id": "3fa3ba92-3e05-4f18-a446-2495b748d341",
   "metadata": {},
   "source": [
    "#### Objectives\n",
    "\n",
    "1. Learn Data Science Tools\n",
    "2. Learn Data Science Methodology\n",
    "3. Learn Algorithms\n",
    "4. Learn Python\n",
    "5. Apply Python to Data Science projects"
   ]
  },
  {
   "cell_type": "markdown",
   "id": "cfcc5b4b-eac1-4034-971e-9d5946b59b8a",
   "metadata": {},
   "source": [
    "#### Exercise 11 - Author´s Name\n",
    "#### Ricardo YS"
   ]
  },
  {
   "cell_type": "code",
   "execution_count": null,
   "id": "de2de918-4f14-41d8-8499-8aaca753f8c3",
   "metadata": {},
   "outputs": [],
   "source": []
  }
 ],
 "metadata": {
  "kernelspec": {
   "display_name": "Python [conda env:base] *",
   "language": "python",
   "name": "conda-base-py"
  },
  "language_info": {
   "codemirror_mode": {
    "name": "ipython",
    "version": 3
   },
   "file_extension": ".py",
   "mimetype": "text/x-python",
   "name": "python",
   "nbconvert_exporter": "python",
   "pygments_lexer": "ipython3",
   "version": "3.12.4"
  }
 },
 "nbformat": 4,
 "nbformat_minor": 5
}
